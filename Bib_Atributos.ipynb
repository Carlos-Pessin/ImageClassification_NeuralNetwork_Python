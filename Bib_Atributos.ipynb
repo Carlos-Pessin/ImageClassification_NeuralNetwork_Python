{
  "nbformat": 4,
  "nbformat_minor": 0,
  "metadata": {
    "colab": {
      "provenance": [],
      "mount_file_id": "1tUt8rpsuF20a7LdbvHy9gLEpcxPc40_F",
      "authorship_tag": "ABX9TyPzrfoLQNORL0YkIp9ajg2C",
      "include_colab_link": true
    },
    "kernelspec": {
      "name": "python3",
      "display_name": "Python 3"
    },
    "language_info": {
      "name": "python"
    }
  },
  "cells": [
    {
      "cell_type": "markdown",
      "metadata": {
        "id": "view-in-github",
        "colab_type": "text"
      },
      "source": [
        "<a href=\"https://colab.research.google.com/github/Carlos-Pessin/NeuralNetwork---Image-classification/blob/main/Bib_Atributos.ipynb\" target=\"_parent\"><img src=\"https://colab.research.google.com/assets/colab-badge.svg\" alt=\"Open In Colab\"/></a>"
      ]
    },
    {
      "cell_type": "code",
      "execution_count": null,
      "metadata": {
        "id": "EKCmn8ztbRC9"
      },
      "outputs": [],
      "source": [
        "def Filt_Laplac(I):\n",
        "  # PreProcessamento1\n",
        "  import numpy as np\n",
        "  import scipy.signal\n",
        "\n",
        "  (M,N,ID) = np.shape(I)\n",
        "  I_filt = np.zeros((M,N,ID), dtype=np.float64)\n",
        "\n",
        "  wLaplaciano = np.array([[0,1,0], [1,-4,1], [0,1,0]])\n",
        "\n",
        "  for i in range(ID):\n",
        "    I_filt[:,:,i] = np.abs(scipy.signal.convolve2d(I[:,:,i],wLaplaciano,'same'))\n",
        "    I_filt[:,:,i] = I_filt[:,:,i] / np.max(I_filt[:,:,i])\n",
        "\n",
        "  return I_filt"
      ]
    },
    {
      "cell_type": "code",
      "source": [
        "def Filt_High_Gauss(I,sizeH,sizeV,desv_pad):\n",
        "  # PreProcessamento2\n",
        "  import cv2\n",
        "  import numpy as np\n",
        "\n",
        "  (M,N,ID) = np.shape(I)\n",
        "  I_filt = np.zeros((M,N,ID), dtype=np.float64)\n",
        "\n",
        "  for i in range(ID):\n",
        "    I_filt[:,:,i] = I[:,:,i] - cv2.GaussianBlur(I[:,:,i], (sizeH,sizeV), desv_pad)\n",
        "    I_filt[:,:,i] = I_filt[:,:,i] / np.max(I_filt[:,:,i])\n",
        "\n",
        "  return I_filt"
      ],
      "metadata": {
        "id": "3IUJNiygoKIG"
      },
      "execution_count": null,
      "outputs": []
    },
    {
      "cell_type": "code",
      "source": [
        "def Filt_High_Median(I,kernel_size):\n",
        "  # PreProcessamento3\n",
        "  import scipy.signal\n",
        "  import numpy as np\n",
        "\n",
        "  (M,N,ID) = np.shape(I)\n",
        "  I_filt = np.zeros((M,N,ID), dtype=np.float64)\n",
        "\n",
        "  for i in range(ID):\n",
        "    I_filt[:,:,i] = I[:,:,i] - scipy.signal.medfilt2d(I[:,:,i], kernel_size=kernel_size)\n",
        "    I_filt[:,:,i] = I_filt[:,:,i] / np.max(I_filt[:,:,i])\n",
        "\n",
        "  return I_filt"
      ],
      "metadata": {
        "id": "QYxd_jF-pk1R"
      },
      "execution_count": null,
      "outputs": []
    },
    {
      "cell_type": "code",
      "source": [
        "def Filt_Low_Median(I,kernel_size):\n",
        "  # PreProcessamento3\n",
        "  import scipy.signal\n",
        "  import numpy as np\n",
        "\n",
        "  (M,N,ID) = np.shape(I)\n",
        "  I_filt = np.zeros((M,N,ID), dtype=np.float64)\n",
        "\n",
        "  for i in range(ID):\n",
        "    I_filt[:,:,i] = scipy.signal.medfilt2d(I[:,:,i], kernel_size=kernel_size)\n",
        "    I_filt[:,:,i] = I_filt[:,:,i] / np.max(I_filt[:,:,i])\n",
        "\n",
        "  return I_filt"
      ],
      "metadata": {
        "id": "ld2AR1yK8J8g"
      },
      "execution_count": null,
      "outputs": []
    },
    {
      "cell_type": "code",
      "source": [
        "def Coefs_Wavelet(I):\n",
        "  # PreProcessamento4\n",
        "  import numpy as np\n",
        "  import pywt\n",
        "\n",
        "  (M,N,ID) = np.shape(I)\n",
        "  cA = np.zeros((M,N,ID), dtype=np.float64)\n",
        "  cDv = np.zeros((M,N,ID), dtype=np.float64)\n",
        "  cDh = np.zeros((M,N,ID), dtype=np.float64)\n",
        "  cDd = np.zeros((M,N,ID), dtype=np.float64)\n",
        "\n",
        "  for i in range(ID):\n",
        "    [(cA[:,:,i], (cDv[:,:,i], cDh[:,:,i], cDd[:,:,i]))] = pywt.swt2(I[:,:,i], 'db1', level=1, start_level=1)\n",
        "\n",
        "  return cA, cDv, cDh, cDd"
      ],
      "metadata": {
        "id": "ofBq32gZlDHw"
      },
      "execution_count": null,
      "outputs": []
    },
    {
      "cell_type": "code",
      "source": [
        "def Dist_Centro(I):\n",
        "  import numpy as np\n",
        "\n",
        "  (M,N,ID) = np.shape(I)\n",
        "  dist = np.zeros((M,N,ID))\n",
        "\n",
        "  for n in range(ID):\n",
        "    for i in range(M):\n",
        "      for j in range(N):\n",
        "        distj = j - N/2\n",
        "        disti = i - M/2\n",
        "        dist[i,j,n] = (distj**2  + disti**2)**(1/2)\n",
        "\n",
        "    dist[:,:,n] = dist[:,:,n]/np.max(dist[:,:,n])\n",
        "\n",
        "  return dist"
      ],
      "metadata": {
        "id": "NrKpjif8qgXY"
      },
      "execution_count": null,
      "outputs": []
    }
  ]
}