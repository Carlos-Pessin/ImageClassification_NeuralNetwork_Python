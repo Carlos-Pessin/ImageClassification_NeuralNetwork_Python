{
  "nbformat": 4,
  "nbformat_minor": 0,
  "metadata": {
    "colab": {
      "provenance": [],
      "gpuType": "T4",
      "mount_file_id": "1TJypeWkqnS7Uo3OoOK3pOqFr7A8WnCMw",
      "authorship_tag": "ABX9TyPYr74E0vSPNuFZQX/lvTPQ",
      "include_colab_link": true
    },
    "kernelspec": {
      "name": "python3",
      "display_name": "Python 3"
    },
    "language_info": {
      "name": "python"
    },
    "accelerator": "GPU"
  },
  "cells": [
    {
      "cell_type": "markdown",
      "metadata": {
        "id": "view-in-github",
        "colab_type": "text"
      },
      "source": [
        "<a href=\"https://colab.research.google.com/github/Carlos-Pessin/NeuralNetwork---Image-classification/blob/main/LAB_02C.ipynb\" target=\"_parent\"><img src=\"https://colab.research.google.com/assets/colab-badge.svg\" alt=\"Open In Colab\"/></a>"
      ]
    },
    {
      "cell_type": "code",
      "execution_count": null,
      "metadata": {
        "id": "csgQSzv55EKt"
      },
      "outputs": [],
      "source": [
        "import seaborn as sb\n",
        "import numpy as np\n",
        "import pandas as pd\n",
        "from sklearn import datasets\n",
        "from sklearn.model_selection import train_test_split\n",
        "from sklearn.preprocessing import StandardScaler\n",
        "from sklearn.linear_model import Perceptron\n",
        "from sklearn.metrics import accuracy_score, confusion_matrix\n",
        "from matplotlib.colors import ListedColormap\n",
        "import matplotlib.pyplot as plt\n",
        "from matplotlib import rcParams\n",
        "import keras\n",
        "from keras import backend as K\n",
        "from keras.models import Sequential\n",
        "from keras.layers import Dense\n",
        "import cv2\n",
        "import skimage\n",
        "import skimage.exposure\n",
        "import skimage.transform\n",
        "import pywt\n",
        "import sys\n",
        "import tensorflow as tf\n",
        "sys.path.append('/content/drive/MyDrive/Bibs')\n",
        "import bib_atributos\n",
        "#import bibAtributos3D\n",
        "K.set_image_data_format('channels_last')\n",
        "\n"
      ]
    },
    {
      "cell_type": "code",
      "source": [
        "#%% funcoes\n",
        "def gaussian(x, u, std):\n",
        "\treturn K.exp(-1*(((0.5*(x-u))/std)**2))"
      ],
      "metadata": {
        "id": "JqhdWES95HIx"
      },
      "execution_count": null,
      "outputs": []
    },
    {
      "cell_type": "code",
      "source": [
        "#%% Ler imagens para treinamento\n",
        "numeroImagens = 20\n",
        "I = np.zeros((315, 315, numeroImagens), dtype=np.float64)\n",
        "GS = np.zeros((315, 315, numeroImagens), dtype=np.float64)\n",
        "\n",
        "for i in range(numeroImagens):\n",
        "\tid = str(i)\n",
        "\tI[:,:,i] = skimage.img_as_float(cv2.imread('/content/drive/MyDrive/Pós/Redes Neurais/Lab 02C/I' + id + '.pgm',0))\n",
        "\tGS[:,:,i] = skimage.img_as_float(cv2.imread('/content/drive/MyDrive/Pós/Redes Neurais/Lab 02C/GSM' + id + '.pgm',0))"
      ],
      "metadata": {
        "id": "ogQdqM8f5M3e"
      },
      "execution_count": null,
      "outputs": []
    },
    {
      "cell_type": "code",
      "source": [
        "#%% verifica se tamaho par\n",
        "\n",
        "(M,N,ID) = np.shape(I)\n",
        "\n",
        "if M % 2 == 1:\n",
        "\tM = M + 1\n",
        "if N % 2 ==1:\n",
        "\tN = N + 1\n",
        "\n",
        "size = [M,N]\n",
        "\n",
        "Iresize = np.zeros((M,N,ID), dtype=np.float64)\n",
        "GSresize = np.zeros((M,N,ID), dtype=np.float64)\n",
        "\n",
        "\n",
        "for i in range(numeroImagens):\n",
        "\timg = I[:,:,i]\n",
        "\tgst = GS[:,:,i]\n",
        "\n",
        "\timg = skimage.transform.resize(img, output_shape = size)\n",
        "\tgst = skimage.transform.resize(gst, output_shape = size)\n",
        "\n",
        "\tIresize[:,:,i] = img\n",
        "\tGSresize[:,:,i] = gst\n",
        "\n",
        "I = Iresize\n",
        "GS = GSresize"
      ],
      "metadata": {
        "id": "fr83NSwD5PZK"
      },
      "execution_count": null,
      "outputs": []
    },
    {
      "cell_type": "code",
      "source": [
        "#%% separa dados de treino\n",
        "\n",
        "I_treino = I[:,:,1:20]\n",
        "GS_treino = GS[:,:,1:20]\n",
        "\n",
        "I_test = I[:,:,0:1]\n",
        "GS_test = GS[:,:,0:1]"
      ],
      "metadata": {
        "id": "QodiGPwM5SPY"
      },
      "execution_count": null,
      "outputs": []
    },
    {
      "cell_type": "code",
      "source": [
        "#%% preprocessamento\n",
        "treino_Atributo1= np.zeros((M,N,19), dtype=np.float64)\n",
        "\n",
        "(cA, cDv, cDh, cDd) = bib_atributos.Coefs_Wavelet(I_treino)\n",
        "\n",
        "for i in range(19):\n",
        "  treino_Atributo1[:,:,i] = cA[:,:,i] + cDv[:,:,i] + cDh[:,:,i]\n",
        "\n",
        "(cA, cDv, cDh, cDd) = bib_atributos.Coefs_Wavelet(I_test)\n",
        "test_Atributo1 = cA + cDv + cDh\n",
        "\n",
        "\n",
        "treino_Atributo2 = bib_atributos.Filt_High_Median(I_treino,5)\n",
        "test_Atributo2 = bib_atributos.Filt_High_Median(I_test,5)\n",
        "\n",
        "plt.figure()\n",
        "plt.title('Imagem original')\n",
        "plt.imshow(I_treino[:,:,0], cmap='gray')\n",
        "plt.figure()\n",
        "plt.title('Imagem com wavelet')\n",
        "plt.imshow(treino_Atributo1[:,:,0], cmap='gray')\n",
        "plt.figure()\n",
        "plt.title('Imagem com Passa Alta Mediana')\n",
        "plt.imshow(treino_Atributo2[:,:,0], cmap='gray')\n",
        "\n",
        "plt.figure()\n",
        "plt.title('Imagem original')\n",
        "plt.imshow(I_test[:,:,0], cmap='gray')\n",
        "plt.figure()\n",
        "plt.title('Imagem com wavelet')\n",
        "plt.imshow(test_Atributo1[:,:,0], cmap='gray')\n",
        "plt.figure()\n",
        "plt.title('Imagem com Passa Alta Mediana')\n",
        "plt.imshow(test_Atributo2[:,:,0], cmap='gray')"
      ],
      "metadata": {
        "id": "9ll7N_Zo5T1w"
      },
      "execution_count": null,
      "outputs": []
    },
    {
      "cell_type": "code",
      "source": [
        "#%% Dados\n",
        "# Transforma as imagens e colunas para a entrada da rede\n",
        "Ivector_treino = I_treino.flatten(order='C')\n",
        "Ivector_treino_Atributo1 = treino_Atributo1.flatten(order='C')\n",
        "Ivector_treino_Atributo2 = treino_Atributo2.flatten(order='C')\n",
        "GSvector_treino = GS_treino.flatten(order='C')\n",
        "\n",
        "Ivector_test = I_test.flatten(order='C')\n",
        "Ivector_test_Atributo1 = test_Atributo1.flatten(order='C')\n",
        "Ivector_test_Atributo2 = test_Atributo2.flatten(order='C')\n",
        "GSvector_test = GS_test.flatten(order='C')\n",
        "\n",
        "X_treinamento = [Ivector_treino, Ivector_treino_Atributo1, Ivector_treino_Atributo2]\n",
        "X_treinamento = np.transpose(X_treinamento)\n",
        "y_treinamento = GSvector_treino\n",
        "\n",
        "X_test = [Ivector_test, Ivector_test_Atributo1, Ivector_test_Atributo2]\n",
        "X_test = np.transpose(X_test)\n",
        "y_test = GSvector_test > 0.5"
      ],
      "metadata": {
        "id": "Ze1ZaNtl5XC3"
      },
      "execution_count": null,
      "outputs": []
    },
    {
      "cell_type": "code",
      "source": [
        "#%% construcao do modelo\n",
        "N_entradas = 3\n",
        "inputs = tf.keras.layers.Input((N_entradas,))\t# tensor de entrada\n",
        "\n",
        "# camada de entrada 3 neuronio e com 3 entradas\n",
        "# Layer 1\n",
        "L1 = tf.keras.layers.Dense(30, kernel_initializer='ones', bias_initializer='zeros', input_shape=((N_entradas,)))(inputs)\n",
        "L1 = gaussian(L1, u=1, std=0.05)\n",
        "\n",
        "# Layer 2 - camada escondida\n",
        "L2 = tf.keras.layers.Dense(30, kernel_initializer='ones', bias_initializer='zeros', input_shape=((N_entradas,)))(L1)\n",
        "L2 = tf.keras.activations.relu(L2, alpha=0, max_value=1, threshold=0)\n",
        "\n",
        "# camada de saida\n",
        "Lout = tf.keras.layers.Dense(1, kernel_initializer='ones', bias_initializer='zeros', input_shape=((N_entradas,)))(L2)\n",
        "Lout = tf.keras.activations.relu(Lout, alpha=0, max_value=1, threshold=0)\n",
        "\n",
        "# compilar a rede\n",
        "model = tf.keras.Model(inputs=[inputs], outputs = [Lout])\n",
        "model.summary()\n",
        "model.compile(optimizer='adam', loss='binary_crossentropy', metrics=['accuracy'])"
      ],
      "metadata": {
        "id": "LRJmzbsd5XsN",
        "colab": {
          "base_uri": "https://localhost:8080/"
        },
        "outputId": "5169fbd1-b122-4006-d156-1775a70e76b0"
      },
      "execution_count": null,
      "outputs": [
        {
          "output_type": "stream",
          "name": "stdout",
          "text": [
            "Model: \"model\"\n",
            "_________________________________________________________________\n",
            " Layer (type)                Output Shape              Param #   \n",
            "=================================================================\n",
            " input_1 (InputLayer)        [(None, 3)]               0         \n",
            "                                                                 \n",
            " dense (Dense)               (None, 30)                120       \n",
            "                                                                 \n",
            " tf.math.subtract (TFOpLamb  (None, 30)                0         \n",
            " da)                                                             \n",
            "                                                                 \n",
            " tf.math.multiply (TFOpLamb  (None, 30)                0         \n",
            " da)                                                             \n",
            "                                                                 \n",
            " tf.math.truediv (TFOpLambd  (None, 30)                0         \n",
            " a)                                                              \n",
            "                                                                 \n",
            " tf.math.pow (TFOpLambda)    (None, 30)                0         \n",
            "                                                                 \n",
            " tf.math.multiply_1 (TFOpLa  (None, 30)                0         \n",
            " mbda)                                                           \n",
            "                                                                 \n",
            " tf.math.exp (TFOpLambda)    (None, 30)                0         \n",
            "                                                                 \n",
            " dense_1 (Dense)             (None, 30)                930       \n",
            "                                                                 \n",
            " tf.nn.relu (TFOpLambda)     (None, 30)                0         \n",
            "                                                                 \n",
            " tf.clip_by_value (TFOpLamb  (None, 30)                0         \n",
            " da)                                                             \n",
            "                                                                 \n",
            " dense_2 (Dense)             (None, 1)                 31        \n",
            "                                                                 \n",
            " tf.nn.relu_1 (TFOpLambda)   (None, 1)                 0         \n",
            "                                                                 \n",
            " tf.clip_by_value_1 (TFOpLa  (None, 1)                 0         \n",
            " mbda)                                                           \n",
            "                                                                 \n",
            "=================================================================\n",
            "Total params: 1081 (4.22 KB)\n",
            "Trainable params: 1081 (4.22 KB)\n",
            "Non-trainable params: 0 (0.00 Byte)\n",
            "_________________________________________________________________\n"
          ]
        }
      ]
    },
    {
      "cell_type": "code",
      "source": [
        "#%% Treinamento\n",
        "model.fit(X_treinamento, y_treinamento, validation_data=(X_test,y_test), batch_size=(N*M), epochs=1000)"
      ],
      "metadata": {
        "id": "D20I22jX5bSL"
      },
      "execution_count": null,
      "outputs": []
    },
    {
      "cell_type": "code",
      "source": [
        "#%% Teste e avaliacao\n",
        "y_pred = model.predict(X_test)\n",
        "y_pred_bool = y_pred > 0.1\n",
        "\n",
        "acc = accuracy_score(y_test, y_pred_bool)\n",
        "matriz_conf = confusion_matrix(y_test, y_pred_bool)\n",
        "\n",
        "print(acc)\n",
        "print(matriz_conf)"
      ],
      "metadata": {
        "colab": {
          "base_uri": "https://localhost:8080/"
        },
        "id": "Mftu03zOrnDX",
        "outputId": "d55421e4-2b77-4442-bcec-d816ca14bf0d"
      },
      "execution_count": null,
      "outputs": [
        {
          "output_type": "stream",
          "name": "stdout",
          "text": [
            "3121/3121 [==============================] - 7s 2ms/step\n",
            "0.997215991027079\n",
            "[[99578     0]\n",
            " [  278     0]]\n"
          ]
        }
      ]
    },
    {
      "cell_type": "code",
      "source": [
        "#%% exibe imagens\n",
        "Imatrix_treino = Ivector_treino.reshape(N, -1)\n",
        "I_pred = y_pred.reshape(N, -1)\n",
        "I_pred_bool = y_pred_bool.reshape(N, -1)\n",
        "\n",
        "plt.figure()\n",
        "plt.title('Gold standard')\n",
        "plt.imshow(GS_test , cmap='gray')\n",
        "\n",
        "plt.figure()\n",
        "plt.title('Imagem predita')\n",
        "plt.imshow(I_pred, cmap='gray')\n",
        "\n",
        "plt.figure()\n",
        "plt.title('Imagem predita Booleana')\n",
        "plt.imshow(I_pred_bool, cmap='gray')"
      ],
      "metadata": {
        "id": "DiK4ygpR5der"
      },
      "execution_count": null,
      "outputs": []
    }
  ]
}